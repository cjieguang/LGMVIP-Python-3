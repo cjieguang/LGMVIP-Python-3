{
 "cells": [
  {
   "cell_type": "code",
   "execution_count": 1,
   "metadata": {},
   "outputs": [],
   "source": [
    "# Imports\n",
    "from tkinter import *\n",
    "import random\n",
    "import time"
   ]
  },
  {
   "cell_type": "code",
   "execution_count": 13,
   "metadata": {},
   "outputs": [],
   "source": [
    "# Create Tkinter Screen\n",
    "screen = Tk()\n",
    "# Add title\n",
    "screen.title(\"ROCK PAPER SCISSORS\")\n",
    "# Set size of screen\n",
    "screen.minsize(630,630)\n",
    "# Set background of screen\n",
    "screen.configure(background = \"#FAC898\")\n",
    "\n",
    "# Create key-value pair using dictionary for easier reference to RPS\n",
    "dict_RPS = {\"0\": \"Rock\", \"1\": \"Paper\", \"2\": \"Scissors\"}\n",
    "\n",
    "# Create Computer's choice\n",
    "def comChoose():\n",
    "    return dict_RPS[str(random.randint(0,2))]\n",
    "\n",
    "# Determine conditions when player chooses the following\n",
    "\n",
    "# Rock\n",
    "def choseRock():\n",
    "    comChoice = comChoose()\n",
    "    if comChoice == \"Rock\":\n",
    "        result = \"Draw!\"\n",
    "    elif comChoice == \"Paper\":\n",
    "        result = \"You Lose!\"\n",
    "    else:\n",
    "        result = \"You Win!\"\n",
    "    return result\n",
    "\n",
    "# Paper\n",
    "def chosePaper():\n",
    "    comChoice = comChoose()\n",
    "    if comChoice == \"Rock\":\n",
    "        result = \"You Win!\"\n",
    "    elif comChoice == \"Paper\":\n",
    "        result = \"Draw!\"\n",
    "    else:\n",
    "        result = \"You Lose!\"\n",
    "    return result\n",
    "\n",
    "\n",
    "screen.mainloop()"
   ]
  }
 ],
 "metadata": {
  "kernelspec": {
   "display_name": "Python 3",
   "language": "python",
   "name": "python3"
  },
  "language_info": {
   "codemirror_mode": {
    "name": "ipython",
    "version": 3
   },
   "file_extension": ".py",
   "mimetype": "text/x-python",
   "name": "python",
   "nbconvert_exporter": "python",
   "pygments_lexer": "ipython3",
   "version": "3.11.0"
  }
 },
 "nbformat": 4,
 "nbformat_minor": 2
}
